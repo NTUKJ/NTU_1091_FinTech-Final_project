{
  "nbformat": 4,
  "nbformat_minor": 0,
  "metadata": {
    "colab": {
      "provenance": []
    },
    "kernelspec": {
      "name": "python3",
      "display_name": "Python 3"
    }
  },
  "cells": [
    {
      "cell_type": "code",
      "metadata": {
        "id": "rvX90Gk_ZY4m"
      },
      "source": [
        "pip install https://github.com/matplotlib/mpl_finance/archive/master.zip"
      ],
      "execution_count": null,
      "outputs": []
    },
    {
      "cell_type": "code",
      "metadata": {
        "id": "0nH5QiVLaSBv"
      },
      "source": [
        "!wget http://prdownloads.sourceforge.net/ta-lib/ta-lib-0.4.0-src.tar.gz\n",
        "!tar -xzvf ta-lib-0.4.0-src.tar.gz\n",
        "%cd ta-lib\n",
        "!./configure --prefix=/usr\n",
        "!make\n",
        "!make install\n",
        "!pip install Ta-Lib"
      ],
      "execution_count": null,
      "outputs": []
    },
    {
      "cell_type": "code",
      "metadata": {
        "id": "kW0BSw6MaR_j"
      },
      "source": [
        "import pandas as pd\n",
        "import numpy as np\n",
        "import matplotlib.pyplot as plt\n",
        "import time\n",
        "import csv\n",
        "import talib, math\n",
        "import keras\n",
        "import keras.models\n",
        "import keras.callbacks\n",
        "import mpl_finance as mpf\n",
        "from keras.callbacks import EarlyStopping, ModelCheckpoint\n",
        "from keras.models import Sequential\n",
        "from keras.layers import SimpleRNN, LSTM, GRU, Activation, Dense, Dropout, Input, Embedding, Bidirectional, TimeDistributed\n",
        "from keras.optimizers import Adam\n",
        "from keras.layers.normalization import BatchNormalization\n",
        "\n",
        "from sklearn import preprocessing\n",
        "from sklearn.metrics import mean_squared_error\n",
        "\n",
        "from google.colab import files"
      ],
      "execution_count": null,
      "outputs": []
    },
    {
      "cell_type": "code",
      "metadata": {
        "colab": {
          "base_uri": "https://localhost:8080/",
          "height": 204
        },
        "id": "DbQa6Dv7aR9A",
        "outputId": "6f66f2e3-932c-49fc-f426-9db5dc85b694"
      },
      "source": [
        "_df = pd.read_csv('Australia_data.csv')\n",
        "# df = pd.read_csv('Germany_data.csv')\n",
        "_df.head()"
      ],
      "execution_count": null,
      "outputs": [
        {
          "output_type": "execute_result",
          "data": {
            "text/html": [
              "<div>\n",
              "<style scoped>\n",
              "    .dataframe tbody tr th:only-of-type {\n",
              "        vertical-align: middle;\n",
              "    }\n",
              "\n",
              "    .dataframe tbody tr th {\n",
              "        vertical-align: top;\n",
              "    }\n",
              "\n",
              "    .dataframe thead th {\n",
              "        text-align: right;\n",
              "    }\n",
              "</style>\n",
              "<table border=\"1\" class=\"dataframe\">\n",
              "  <thead>\n",
              "    <tr style=\"text-align: right;\">\n",
              "      <th></th>\n",
              "      <th>Date</th>\n",
              "      <th>Open</th>\n",
              "      <th>High</th>\n",
              "      <th>Low</th>\n",
              "      <th>Close</th>\n",
              "      <th>Volume</th>\n",
              "      <th>ma10</th>\n",
              "      <th>ma30</th>\n",
              "      <th>K</th>\n",
              "      <th>D</th>\n",
              "      <th>covid</th>\n",
              "    </tr>\n",
              "  </thead>\n",
              "  <tbody>\n",
              "    <tr>\n",
              "      <th>0</th>\n",
              "      <td>2020-02-03</td>\n",
              "      <td>3235.659912</td>\n",
              "      <td>3268.439941</td>\n",
              "      <td>3235.659912</td>\n",
              "      <td>3248.919922</td>\n",
              "      <td>3757910000</td>\n",
              "      <td>3281.491968</td>\n",
              "      <td>0.0</td>\n",
              "      <td>35.677664</td>\n",
              "      <td>37.742791</td>\n",
              "      <td>3</td>\n",
              "    </tr>\n",
              "    <tr>\n",
              "      <th>1</th>\n",
              "      <td>2020-02-04</td>\n",
              "      <td>3280.610107</td>\n",
              "      <td>3306.919922</td>\n",
              "      <td>3280.610107</td>\n",
              "      <td>3297.590088</td>\n",
              "      <td>3995320000</td>\n",
              "      <td>3279.171973</td>\n",
              "      <td>0.0</td>\n",
              "      <td>49.033572</td>\n",
              "      <td>39.681079</td>\n",
              "      <td>1</td>\n",
              "    </tr>\n",
              "    <tr>\n",
              "      <th>2</th>\n",
              "      <td>2020-02-05</td>\n",
              "      <td>3324.909912</td>\n",
              "      <td>3337.580078</td>\n",
              "      <td>3313.750000</td>\n",
              "      <td>3334.689941</td>\n",
              "      <td>4117730000</td>\n",
              "      <td>3280.465967</td>\n",
              "      <td>0.0</td>\n",
              "      <td>76.996968</td>\n",
              "      <td>53.902734</td>\n",
              "      <td>1</td>\n",
              "    </tr>\n",
              "    <tr>\n",
              "      <th>3</th>\n",
              "      <td>2020-02-06</td>\n",
              "      <td>3344.919922</td>\n",
              "      <td>3347.959961</td>\n",
              "      <td>3334.389893</td>\n",
              "      <td>3345.780029</td>\n",
              "      <td>3868370000</td>\n",
              "      <td>3282.489966</td>\n",
              "      <td>0.0</td>\n",
              "      <td>95.299348</td>\n",
              "      <td>73.776629</td>\n",
              "      <td>1</td>\n",
              "    </tr>\n",
              "    <tr>\n",
              "      <th>4</th>\n",
              "      <td>2020-02-07</td>\n",
              "      <td>3335.540039</td>\n",
              "      <td>3341.419922</td>\n",
              "      <td>3322.120117</td>\n",
              "      <td>3327.709961</td>\n",
              "      <td>3730650000</td>\n",
              "      <td>3285.713965</td>\n",
              "      <td>0.0</td>\n",
              "      <td>92.660245</td>\n",
              "      <td>88.318854</td>\n",
              "      <td>0</td>\n",
              "    </tr>\n",
              "  </tbody>\n",
              "</table>\n",
              "</div>"
            ],
            "text/plain": [
              "         Date         Open         High  ...          K          D  covid\n",
              "0  2020-02-03  3235.659912  3268.439941  ...  35.677664  37.742791      3\n",
              "1  2020-02-04  3280.610107  3306.919922  ...  49.033572  39.681079      1\n",
              "2  2020-02-05  3324.909912  3337.580078  ...  76.996968  53.902734      1\n",
              "3  2020-02-06  3344.919922  3347.959961  ...  95.299348  73.776629      1\n",
              "4  2020-02-07  3335.540039  3341.419922  ...  92.660245  88.318854      0\n",
              "\n",
              "[5 rows x 11 columns]"
            ]
          },
          "metadata": {
            "tags": []
          },
          "execution_count": 6
        }
      ]
    },
    {
      "cell_type": "code",
      "metadata": {
        "id": "5UhMXs52aR6u"
      },
      "source": [
        "def normalize(df):\n",
        "  norm = df.apply(lambda x: (x - np.min(x)) / (np.max(x) - np.min(x)))\n",
        "  return norm"
      ],
      "execution_count": null,
      "outputs": []
    },
    {
      "cell_type": "code",
      "metadata": {
        "colab": {
          "base_uri": "https://localhost:8080/"
        },
        "id": "0CU3Vu2vfBuM",
        "outputId": "40f3674d-5c03-4d96-bf8b-6c4012a76e81"
      },
      "source": [
        "scaler_c = preprocessing.MinMaxScaler()\n",
        "scaler_c.fit(_df['Close'].values.reshape(-1,1))"
      ],
      "execution_count": null,
      "outputs": [
        {
          "output_type": "execute_result",
          "data": {
            "text/plain": [
              "MinMaxScaler(copy=True, feature_range=(0, 1))"
            ]
          },
          "metadata": {
            "tags": []
          },
          "execution_count": 7
        }
      ]
    },
    {
      "cell_type": "code",
      "metadata": {
        "id": "XQYOg5R5aR4X",
        "colab": {
          "base_uri": "https://localhost:8080/",
          "height": 204
        },
        "outputId": "5cdb3bc7-994e-420d-e25a-3abfa1d61649"
      },
      "source": [
        "df = _df.copy()\n",
        "start = 1\n",
        "end = 11\n",
        "df.iloc[:,start:end] = normalize(df.iloc[:,start:end])\n",
        "df.head()"
      ],
      "execution_count": null,
      "outputs": [
        {
          "output_type": "execute_result",
          "data": {
            "text/html": [
              "<div>\n",
              "<style scoped>\n",
              "    .dataframe tbody tr th:only-of-type {\n",
              "        vertical-align: middle;\n",
              "    }\n",
              "\n",
              "    .dataframe tbody tr th {\n",
              "        vertical-align: top;\n",
              "    }\n",
              "\n",
              "    .dataframe thead th {\n",
              "        text-align: right;\n",
              "    }\n",
              "</style>\n",
              "<table border=\"1\" class=\"dataframe\">\n",
              "  <thead>\n",
              "    <tr style=\"text-align: right;\">\n",
              "      <th></th>\n",
              "      <th>Date</th>\n",
              "      <th>Open</th>\n",
              "      <th>High</th>\n",
              "      <th>Low</th>\n",
              "      <th>Close</th>\n",
              "      <th>Volume</th>\n",
              "      <th>ma10</th>\n",
              "      <th>ma30</th>\n",
              "      <th>K</th>\n",
              "      <th>D</th>\n",
              "      <th>covid</th>\n",
              "    </tr>\n",
              "  </thead>\n",
              "  <tbody>\n",
              "    <tr>\n",
              "      <th>0</th>\n",
              "      <td>2020-02-03</td>\n",
              "      <td>0.701085</td>\n",
              "      <td>0.719348</td>\n",
              "      <td>0.726137</td>\n",
              "      <td>0.722024</td>\n",
              "      <td>0.156307</td>\n",
              "      <td>0.723502</td>\n",
              "      <td>0.0</td>\n",
              "      <td>0.346881</td>\n",
              "      <td>0.353227</td>\n",
              "      <td>0.002128</td>\n",
              "    </tr>\n",
              "    <tr>\n",
              "      <th>1</th>\n",
              "      <td>2020-02-04</td>\n",
              "      <td>0.734434</td>\n",
              "      <td>0.747952</td>\n",
              "      <td>0.757407</td>\n",
              "      <td>0.756765</td>\n",
              "      <td>0.194195</td>\n",
              "      <td>0.721517</td>\n",
              "      <td>0.0</td>\n",
              "      <td>0.485042</td>\n",
              "      <td>0.373983</td>\n",
              "      <td>0.000709</td>\n",
              "    </tr>\n",
              "    <tr>\n",
              "      <th>2</th>\n",
              "      <td>2020-02-05</td>\n",
              "      <td>0.767302</td>\n",
              "      <td>0.770743</td>\n",
              "      <td>0.780461</td>\n",
              "      <td>0.783247</td>\n",
              "      <td>0.213729</td>\n",
              "      <td>0.722624</td>\n",
              "      <td>0.0</td>\n",
              "      <td>0.774310</td>\n",
              "      <td>0.526273</td>\n",
              "      <td>0.000709</td>\n",
              "    </tr>\n",
              "    <tr>\n",
              "      <th>3</th>\n",
              "      <td>2020-02-06</td>\n",
              "      <td>0.782148</td>\n",
              "      <td>0.778459</td>\n",
              "      <td>0.794820</td>\n",
              "      <td>0.791163</td>\n",
              "      <td>0.173935</td>\n",
              "      <td>0.724356</td>\n",
              "      <td>0.0</td>\n",
              "      <td>0.963640</td>\n",
              "      <td>0.739088</td>\n",
              "      <td>0.000709</td>\n",
              "    </tr>\n",
              "    <tr>\n",
              "      <th>4</th>\n",
              "      <td>2020-02-07</td>\n",
              "      <td>0.775188</td>\n",
              "      <td>0.773598</td>\n",
              "      <td>0.786284</td>\n",
              "      <td>0.778265</td>\n",
              "      <td>0.151957</td>\n",
              "      <td>0.727115</td>\n",
              "      <td>0.0</td>\n",
              "      <td>0.936339</td>\n",
              "      <td>0.894810</td>\n",
              "      <td>0.000000</td>\n",
              "    </tr>\n",
              "  </tbody>\n",
              "</table>\n",
              "</div>"
            ],
            "text/plain": [
              "         Date      Open      High       Low  ...  ma30         K         D     covid\n",
              "0  2020-02-03  0.701085  0.719348  0.726137  ...   0.0  0.346881  0.353227  0.002128\n",
              "1  2020-02-04  0.734434  0.747952  0.757407  ...   0.0  0.485042  0.373983  0.000709\n",
              "2  2020-02-05  0.767302  0.770743  0.780461  ...   0.0  0.774310  0.526273  0.000709\n",
              "3  2020-02-06  0.782148  0.778459  0.794820  ...   0.0  0.963640  0.739088  0.000709\n",
              "4  2020-02-07  0.775188  0.773598  0.786284  ...   0.0  0.936339  0.894810  0.000000\n",
              "\n",
              "[5 rows x 11 columns]"
            ]
          },
          "metadata": {
            "tags": []
          },
          "execution_count": 9
        }
      ]
    },
    {
      "cell_type": "markdown",
      "metadata": {
        "id": "7-EWnUJJcepu"
      },
      "source": [
        "## 1、 Generate training dataset"
      ]
    },
    {
      "cell_type": "code",
      "metadata": {
        "id": "WQhoAM1haRsa"
      },
      "source": [
        "# def splitData(x,y,rate):\n",
        "#   x_train = x[int(x.shape[0]*rate):]\n",
        "#   y_train = y[int(y.shape[0]*rate):]\n",
        "#   x_val = x[:int(x.shape[0]*rate)]\n",
        "#   y_val = y[:int(y.shape[0]*rate)]\n",
        "#   return x_train, y_train, x_val, y_val"
      ],
      "execution_count": null,
      "outputs": []
    },
    {
      "cell_type": "code",
      "metadata": {
        "id": "T0AhwpBQaRqK",
        "colab": {
          "base_uri": "https://localhost:8080/"
        },
        "outputId": "5512a045-c6ea-4e6b-f0b9-e20076318581"
      },
      "source": [
        "# x_train, y_train, x_val, y_val = splitData(x,y,0.2)\n",
        "# print(x_train.shape,y_train.shape)\n",
        "# print(x_val.shape,y_val.shape)\n",
        "# x_train = x_train.astype('float64')\n",
        "# y_train = y_train.astype('float64')"
      ],
      "execution_count": null,
      "outputs": [
        {
          "output_type": "stream",
          "text": [
            "(164, 5, 10) (164, 1)\n",
            "(41, 5, 10) (41, 1)\n"
          ],
          "name": "stdout"
        }
      ]
    },
    {
      "cell_type": "code",
      "metadata": {
        "id": "IxshEBYHnOSM"
      },
      "source": [
        "def gen_input_data(data, time_step = 5, future_day = 1):\n",
        "\n",
        "    data_date = data[\"Date\"]\n",
        "    # print(data_date)\n",
        "    data = data.drop([\"Date\"], axis = 1)\n",
        "    date_list = []\n",
        "    train_x, train_y = [], []\n",
        "    for i in range(data.shape[0]-time_step):\n",
        "        # print(data_date[i])\n",
        "        date_list.append(data_date[i+time_step])\n",
        "        train_x.append(np.array(data.iloc[i:i+time_step]))\n",
        "        train_y.append(np.array(data.iloc[i+time_step:i+time_step+future_day][\"Close\"]))\n",
        "    return np.array(train_x), np.array(train_y), date_list"
      ],
      "execution_count": null,
      "outputs": []
    },
    {
      "cell_type": "code",
      "metadata": {
        "id": "BOGZmQuQ0x-n"
      },
      "source": [
        "def shuffle(X,Y):\n",
        "    np.random.seed(10)\n",
        "    randomList = np.arange(X.shape[0])\n",
        "    np.random.shuffle(randomList)\n",
        "    return X[randomList], Y[randomList]"
      ],
      "execution_count": null,
      "outputs": []
    },
    {
      "cell_type": "code",
      "metadata": {
        "id": "d5-eyvAOCrbh"
      },
      "source": [
        "def split_data(Date, date_list):\n",
        "\ttarget_date = 0\n",
        "\tfor idx, d in enumerate(date_list):\n",
        "\t    if d > Date:\n",
        "\t        target_date = idx\n",
        "\t        break\n",
        "\n",
        "\tx_val = x[target_date:]\n",
        "\ty_val = y[target_date:]\n",
        "\tx_train = x[:target_date]\n",
        "\ty_train = y[:target_date]\n",
        "\treturn x_train, y_train, x_val, y_val"
      ],
      "execution_count": null,
      "outputs": []
    },
    {
      "cell_type": "code",
      "metadata": {
        "colab": {
          "base_uri": "https://localhost:8080/"
        },
        "id": "pZovuZ1XoaJW",
        "outputId": "2a38fbae-46ad-49ba-e157-29686d0b5967"
      },
      "source": [
        "x, y, date_list = gen_input_data(df ,time_step = 5)\n",
        "\n",
        "x_train, y_train, x_val, y_val = split_data(\"2020-09-30\", date_list)\n",
        "\n",
        "x_train, y_train = shuffle(x_train, y_train)\n",
        "\n",
        "print(x_train.shape, y_train.shape)\n",
        "print(x_val.shape, y_val.shape)"
      ],
      "execution_count": null,
      "outputs": [
        {
          "output_type": "stream",
          "text": [
            "(163, 5, 10) (163, 1)\n",
            "(42, 5, 10) (42, 1)\n"
          ],
          "name": "stdout"
        }
      ]
    },
    {
      "cell_type": "markdown",
      "metadata": {
        "id": "qNvv6g7qdBLa"
      },
      "source": [
        "## 2、Model"
      ]
    },
    {
      "cell_type": "code",
      "metadata": {
        "id": "on0zCN9WaRjV"
      },
      "source": [
        "# def BDLSTM_model(shape):\n",
        "#   model = Sequential()\n",
        "#   model.add(Bidirectional(LSTM(units=128,return_sequences=True),input_shape=(shape[1], shape[2])))\n",
        "#   model.add(Bidirectional(LSTM(units=64)))\n",
        "#   forward_layer = LSTM(64, return_sequences=False)\n",
        "#   backward_layer = LSTM(64, activation='relu', return_sequences=False, go_backwards=True)\n",
        "#   model.add(Bidirectional(forward_layer, backward_layer=backward_layer))\n",
        "#   # model.add(Dropout(0.2))\n",
        "#   # model.add(BatchNormalization())\n",
        "#   # model.add(TimeDistributed(Dense(1, activation='sigmoid')))\n",
        "  \n",
        "#   model.add(Dense(1))\n",
        "#   model.compile(loss='mse', optimizer='adam')\n",
        "#   model.summary()\n",
        "#   return model\n",
        "\n",
        "# def BDLSTM_model(shape):\n",
        "    \n",
        "#   model = Sequential()\n",
        "#   forward_layer = LSTM(32, return_sequences=False)\n",
        "#   backward_layer = LSTM(32, activation='relu', return_sequences=False, go_backwards=True)\n",
        "#   model.add(Bidirectional(forward_layer, backward_layer=backward_layer, input_shape=(shape[1], shape[2])))\n",
        "#   model.add(Dense(1))\n",
        "#   # model.add(Activation('softmax'))\n",
        "#   model.compile(loss='mse', optimizer='adam')\n",
        "#   model.summary()\n",
        "#   return model\n",
        "\n",
        "def BDLSTM_model(shape):\n",
        "    \n",
        "    model = Sequential()\n",
        "    forward_layer = LSTM(128, return_sequences=False)\n",
        "    backward_layer = LSTM(128, activation='relu', return_sequences=False, go_backwards=True)\n",
        "    model.add(Bidirectional(forward_layer, backward_layer=backward_layer, input_shape=(shape[1], shape[2])))\n",
        "    model.add(Dense(1))\n",
        "    # model.add(Activation('softmax'))\n",
        "    model.compile(loss='mse', optimizer='adam')\n",
        "    model.summary()\n",
        "    return model"
      ],
      "execution_count": null,
      "outputs": []
    },
    {
      "cell_type": "code",
      "metadata": {
        "id": "K01T3tfSaRhH"
      },
      "source": [
        "model_BDLSTM = BDLSTM_model(x_train.shape)"
      ],
      "execution_count": null,
      "outputs": []
    },
    {
      "cell_type": "code",
      "metadata": {
        "id": "Gmf1m8yE2fit"
      },
      "source": [
        "def LSTM_DNN_model(shape):\n",
        "\n",
        "  model = Sequential()\n",
        "  model.add(LSTM(32, input_length=shape[1], input_dim=shape[2], return_sequences=True))\n",
        "  model.add(Dense(32,kernel_initializer='uniform',activation='relu'))\n",
        "  model.add(Dense(16,kernel_initializer='uniform',activation='relu'))\n",
        "  model.add(LSTM(16, return_sequences=False))\n",
        "  # model.add(LSTM(10, return_sequences=False))\n",
        "  model.add(Dense(1))\n",
        "  model.compile(loss=\"mse\", optimizer=\"adam\")\n",
        "  model.summary()\n",
        "  return model\n",
        "\n",
        "# def LSTM_DNN_model(shape):\n",
        "\n",
        "#   model = Sequential()\n",
        "#   model.add(LSTM(80, input_length=shape[1], input_dim=shape[2], return_sequences=True))\n",
        "#   model.add(Dense(40,kernel_initializer='uniform',activation='relu'))\n",
        "#   model.add(Dense(40,kernel_initializer='uniform',activation='relu'))\n",
        "#   model.add(LSTM(10, return_sequences=False))\n",
        "#   model.add(Dense(1))\n",
        "#   model.compile(loss=\"mse\", optimizer=\"adam\")\n",
        "#   model.summary()\n",
        "#   return model"
      ],
      "execution_count": null,
      "outputs": []
    },
    {
      "cell_type": "code",
      "metadata": {
        "id": "r2tOkomH2ggZ",
        "colab": {
          "base_uri": "https://localhost:8080/"
        },
        "outputId": "62075347-cae7-443a-a2de-cf8d6b6d666d"
      },
      "source": [
        "model_BDLSTM = LSTM_DNN_model(x_train.shape)"
      ],
      "execution_count": null,
      "outputs": [
        {
          "output_type": "stream",
          "text": [
            "Model: \"sequential_36\"\n",
            "_________________________________________________________________\n",
            "Layer (type)                 Output Shape              Param #   \n",
            "=================================================================\n",
            "lstm_83 (LSTM)               (None, 5, 32)             5504      \n",
            "_________________________________________________________________\n",
            "dense_43 (Dense)             (None, 5, 32)             1056      \n",
            "_________________________________________________________________\n",
            "dense_44 (Dense)             (None, 5, 16)             528       \n",
            "_________________________________________________________________\n",
            "lstm_84 (LSTM)               (None, 16)                2112      \n",
            "_________________________________________________________________\n",
            "dense_45 (Dense)             (None, 1)                 17        \n",
            "=================================================================\n",
            "Total params: 9,217\n",
            "Trainable params: 9,217\n",
            "Non-trainable params: 0\n",
            "_________________________________________________________________\n"
          ],
          "name": "stdout"
        }
      ]
    },
    {
      "cell_type": "markdown",
      "metadata": {
        "id": "abb-1N5cdLfi"
      },
      "source": [
        "## 3、Train"
      ]
    },
    {
      "cell_type": "code",
      "metadata": {
        "id": "UNenUX0iaRaM"
      },
      "source": [
        "callback = EarlyStopping(monitor=\"loss\", patience=10, verbose=1, mode=\"auto\")\n",
        "# history_BDLSTM = model_BDLSTM.fit(x_train, y_train, epochs = 1000, batch_size = 16, validation_data=(x_val, y_val), callbacks=[callback])\n",
        "history_BDLSTM = model_BDLSTM.fit(x_train, y_train, epochs = 1000, batch_size = 16, validation_split=0.2, callbacks=[callback])\n",
        "# history_BDLSTM = model_BDLSTM.fit(x_train, y_train, epochs = 1000, batch_size = 16, validation_split=0.2)"
      ],
      "execution_count": null,
      "outputs": []
    },
    {
      "cell_type": "code",
      "metadata": {
        "colab": {
          "base_uri": "https://localhost:8080/",
          "height": 281
        },
        "id": "9iG9pZNuaRTR",
        "outputId": "c331bcba-8913-402a-af2d-78213a76a213"
      },
      "source": [
        "loss_BDLSTM = history_BDLSTM.history['loss']\n",
        "val_loss_BDLSTM = history_BDLSTM.history['val_loss']\n",
        "epochs_BDLSTM = range(1, len(loss_BDLSTM) + 1)\n",
        "\n",
        "# plt.figure()\n",
        "plt.plot(epochs_BDLSTM, loss_BDLSTM, label='Training loss')\n",
        "plt.plot(epochs_BDLSTM, val_loss_BDLSTM, label='Validation loss')\n",
        "plt.title('Training and validation loss')\n",
        "plt.legend()\n",
        "plt.show()"
      ],
      "execution_count": null,
      "outputs": [
        {
          "output_type": "display_data",
          "data": {
            "image/png": "[encoded data removed]",
            "text/plain": [
              "<Figure size 432x288 with 1 Axes>"
            ]
          },
          "metadata": {
            "tags": [],
            "needs_background": "light"
          }
        }
      ]
    },
    {
      "cell_type": "code",
      "metadata": {
        "id": "aEcQ5KM53dCp"
      },
      "source": [
        "# callback = EarlyStopping(monitor=\"loss\", patience=10, verbose=1, mode=\"auto\")\n",
        "# # history_LSTM_DNN = model_LSTM_DNN.fit(x_train, y_train, epochs = 1000, batch_size = 64, validation_data=(x_val, y_val), callbacks=[callback])\n",
        "# history_LSTM_DNN = model_LSTM_DNN.fit(x_train, y_train, epochs = 1000, batch_size = 16, validation_split=0.2, callbacks=[callback])\n",
        "# # history_LSTM_DNN = model_LSTM_DNN.fit(x_train, y_train, epochs = 100, batch_size = 10, validation_split=0.2)"
      ],
      "execution_count": null,
      "outputs": []
    },
    {
      "cell_type": "code",
      "metadata": {
        "id": "99CjKUwH3pIx"
      },
      "source": [
        "# loss_LSTM_DNN = history_LSTM_DNN.history['loss']\n",
        "# val_loss_LSTM_DNN = history_LSTM_DNN.history['val_loss']\n",
        "# epochs_LSTM_DNN = range(1, len(loss_LSTM_DNN) + 1)\n",
        "\n",
        "# # plt.figure()\n",
        "# plt.plot(epochs_LSTM_DNN, loss_LSTM_DNN, label='Training loss')\n",
        "# plt.plot(epochs_LSTM_DNN, val_loss_LSTM_DNN, label='Validation loss')\n",
        "# plt.title('Training and validation loss')\n",
        "# plt.legend()\n",
        "# plt.show()"
      ],
      "execution_count": null,
      "outputs": []
    },
    {
      "cell_type": "markdown",
      "metadata": {
        "id": "Zlx8Wfgyd4ga"
      },
      "source": [
        "## 4、 Predict"
      ]
    },
    {
      "cell_type": "code",
      "metadata": {
        "id": "1ve4kNwtt3c_"
      },
      "source": [
        "vy = y_val.reshape((-1,))\n",
        "vy_origin = scaler_c.inverse_transform(y_val)"
      ],
      "execution_count": null,
      "outputs": []
    },
    {
      "cell_type": "code",
      "metadata": {
        "colab": {
          "base_uri": "https://localhost:8080/"
        },
        "id": "yW5FArf8t89n",
        "outputId": "dcf54337-ddf8-4802-aad7-905f95f29f3b"
      },
      "source": [
        "predict_BDLSTM = model_BDLSTM.predict(x_val)\n",
        "\n",
        "py_BDLSTM_origin = scaler_c.inverse_transform(predict_BDLSTM)\n",
        "\n",
        "mse_BDLSTM = mean_squared_error(vy, predict_BDLSTM)\n",
        "print('mse_BDLSTM:',mse_BDLSTM)\n",
        "\n",
        "mse_BDLSTM_org = mean_squared_error(vy_origin, py_BDLSTM_origin)\n",
        "print('mse_BDLSTM_org:',mse_BDLSTM_org)"
      ],
      "execution_count": null,
      "outputs": [
        {
          "output_type": "stream",
          "text": [
            "WARNING:tensorflow:6 out of the last 11 calls to <function Model.make_predict_function.<locals>.predict_function at 0x7f29b66cfa60> triggered tf.function retracing. Tracing is expensive and the excessive number of tracings could be due to (1) creating @tf.function repeatedly in a loop, (2) passing tensors with different shapes, (3) passing Python objects instead of tensors. For (1), please define your @tf.function outside of the loop. For (2), @tf.function has experimental_relax_shapes=True option that relaxes argument shapes that can avoid unnecessary retracing. For (3), please refer to https://www.tensorflow.org/guide/function#controlling_retracing and https://www.tensorflow.org/api_docs/python/tf/function for  more details.\n",
            "mse_BDLSTM: 0.002886313886268049\n",
            "mse_BDLSTM_org: 5664.851281009679\n"
          ],
          "name": "stdout"
        }
      ]
    },
    {
      "cell_type": "code",
      "metadata": {
        "colab": {
          "base_uri": "https://localhost:8080/",
          "height": 295
        },
        "id": "_ZfXPL2Ces9Y",
        "outputId": "b03bef0e-df7a-44c1-f5c8-a0fc53705b76"
      },
      "source": [
        "plt.plot(vy_origin, color = 'red', label = 'Real Stock Index')  # 紅線表示真實股價\n",
        "plt.plot(py_BDLSTM_origin, color = 'blue', label = 'Predicted Stock Index')  # 藍線表示預測股價\n",
        "plt.title('MSE = ' + str(mse_BDLSTM_org))\n",
        "plt.xlabel('Time')\n",
        "plt.ylabel('Stock Price')\n",
        "plt.legend()\n",
        "plt.show()"
      ],
      "execution_count": null,
      "outputs": [
        {
          "output_type": "display_data",
          "data": {
            "image/png": "[encoded data removed]",
            "text/plain": [
              "<Figure size 432x288 with 1 Axes>"
            ]
          },
          "metadata": {
            "tags": [],
            "needs_background": "light"
          }
        }
      ]
    },
    {
      "cell_type": "code",
      "metadata": {
        "id": "cnrCrP2fqb-X",
        "colab": {
          "base_uri": "https://localhost:8080/",
          "height": 17
        },
        "outputId": "65c7e86c-5e3f-493e-acaa-ac2bc8a3a939"
      },
      "source": [
        "# np.save('BDLSTM',py_BDLSTM_origin)\n",
        "# files.download('BDLSTM.npy')\n",
        "\n",
        "# np.save('vy_origin',vy_origin)\n",
        "# files.download('vy_origin.npy')"
      ],
      "execution_count": null,
      "outputs": [
        {
          "output_type": "display_data",
          "data": {
            "application/javascript": [
              "\n",
              "    async function download(id, filename, size) {\n",
              "      if (!google.colab.kernel.accessAllowed) {\n",
              "        return;\n",
              "      }\n",
              "      const div = document.createElement('div');\n",
              "      const label = document.createElement('label');\n",
              "      label.textContent = `Downloading \"${filename}\": `;\n",
              "      div.appendChild(label);\n",
              "      const progress = document.createElement('progress');\n",
              "      progress.max = size;\n",
              "      div.appendChild(progress);\n",
              "      document.body.appendChild(div);\n",
              "\n",
              "      const buffers = [];\n",
              "      let downloaded = 0;\n",
              "\n",
              "      const channel = await google.colab.kernel.comms.open(id);\n",
              "      // Send a message to notify the kernel that we're ready.\n",
              "      channel.send({})\n",
              "\n",
              "      for await (const message of channel.messages) {\n",
              "        // Send a message to notify the kernel that we're ready.\n",
              "        channel.send({})\n",
              "        if (message.buffers) {\n",
              "          for (const buffer of message.buffers) {\n",
              "            buffers.push(buffer);\n",
              "            downloaded += buffer.byteLength;\n",
              "            progress.value = downloaded;\n",
              "          }\n",
              "        }\n",
              "      }\n",
              "      const blob = new Blob(buffers, {type: 'application/binary'});\n",
              "      const a = document.createElement('a');\n",
              "      a.href = window.URL.createObjectURL(blob);\n",
              "      a.download = filename;\n",
              "      div.appendChild(a);\n",
              "      a.click();\n",
              "      div.remove();\n",
              "    }\n",
              "  "
            ],
            "text/plain": [
              "<IPython.core.display.Javascript object>"
            ]
          },
          "metadata": {
            "tags": []
          }
        },
        {
          "output_type": "display_data",
          "data": {
            "application/javascript": [
              "download(\"download_3ed63e33-2fac-404b-9400-12aeb7d3bb0b\", \"BDLSTM.npy\", 296)"
            ],
            "text/plain": [
              "<IPython.core.display.Javascript object>"
            ]
          },
          "metadata": {
            "tags": []
          }
        },
        {
          "output_type": "display_data",
          "data": {
            "application/javascript": [
              "\n",
              "    async function download(id, filename, size) {\n",
              "      if (!google.colab.kernel.accessAllowed) {\n",
              "        return;\n",
              "      }\n",
              "      const div = document.createElement('div');\n",
              "      const label = document.createElement('label');\n",
              "      label.textContent = `Downloading \"${filename}\": `;\n",
              "      div.appendChild(label);\n",
              "      const progress = document.createElement('progress');\n",
              "      progress.max = size;\n",
              "      div.appendChild(progress);\n",
              "      document.body.appendChild(div);\n",
              "\n",
              "      const buffers = [];\n",
              "      let downloaded = 0;\n",
              "\n",
              "      const channel = await google.colab.kernel.comms.open(id);\n",
              "      // Send a message to notify the kernel that we're ready.\n",
              "      channel.send({})\n",
              "\n",
              "      for await (const message of channel.messages) {\n",
              "        // Send a message to notify the kernel that we're ready.\n",
              "        channel.send({})\n",
              "        if (message.buffers) {\n",
              "          for (const buffer of message.buffers) {\n",
              "            buffers.push(buffer);\n",
              "            downloaded += buffer.byteLength;\n",
              "            progress.value = downloaded;\n",
              "          }\n",
              "        }\n",
              "      }\n",
              "      const blob = new Blob(buffers, {type: 'application/binary'});\n",
              "      const a = document.createElement('a');\n",
              "      a.href = window.URL.createObjectURL(blob);\n",
              "      a.download = filename;\n",
              "      div.appendChild(a);\n",
              "      a.click();\n",
              "      div.remove();\n",
              "    }\n",
              "  "
            ],
            "text/plain": [
              "<IPython.core.display.Javascript object>"
            ]
          },
          "metadata": {
            "tags": []
          }
        },
        {
          "output_type": "display_data",
          "data": {
            "application/javascript": [
              "download(\"download_a8f79383-7ee9-4085-b093-671e7fe393e5\", \"vy_origin.npy\", 464)"
            ],
            "text/plain": [
              "<IPython.core.display.Javascript object>"
            ]
          },
          "metadata": {
            "tags": []
          }
        }
      ]
    },
    {
      "cell_type": "markdown",
      "metadata": {
        "id": "8QxaO2lMozQp"
      },
      "source": [
        "# 二、LSTM_DNN"
      ]
    },
    {
      "cell_type": "code",
      "metadata": {
        "id": "sqs4Y3dseuG4"
      },
      "source": [
        "import numpy as np\n",
        "import pandas as pd\n",
        "import torch\n",
        "import torch.nn as nn\n",
        "import torch.utils.data as Data\n",
        "import torch.optim as optim\n",
        "import matplotlib.pyplot as plt\n",
        "import time\n",
        "from sklearn.metrics import mean_squared_error as mse"
      ],
      "execution_count": null,
      "outputs": []
    },
    {
      "cell_type": "code",
      "metadata": {
        "id": "oUZQKuCHo_Wf"
      },
      "source": [
        "df = pd.read_csv('Australia_data.csv')\n",
        "# df.drop('Volume',axis=1,inplace=True)\n",
        "df = df[(df['Date'] >= \"2020-02-01\") & (df['Date'] <= \"2020-11-30\")]"
      ],
      "execution_count": null,
      "outputs": []
    },
    {
      "cell_type": "code",
      "metadata": {
        "id": "WsWcR7oGkSHi"
      },
      "source": [
        "df.head()"
      ],
      "execution_count": null,
      "outputs": []
    },
    {
      "cell_type": "code",
      "metadata": {
        "id": "MlGVUvM8o_Ut"
      },
      "source": [
        "def normalization(df):\n",
        "    #df.drop('Date',axis=1,inplace=True)\n",
        "    col = df.columns.drop('Date')\n",
        "    for x in col:\n",
        "        mini = min(df[x])\n",
        "        maxi = max(df[x])\n",
        "        if x == 'Close':\n",
        "            close_max = maxi\n",
        "            close_min = mini\n",
        "        df[x] = (df[x] - mini)/(maxi - mini)\n",
        "    return df, close_max, close_min"
      ],
      "execution_count": null,
      "outputs": []
    },
    {
      "cell_type": "code",
      "metadata": {
        "id": "PUR3-_Tf52sB"
      },
      "source": [
        "df_norm,  close_max, close_min  = normalization(df.copy())\n",
        "df_norm = df_norm.reset_index(drop=True)"
      ],
      "execution_count": null,
      "outputs": []
    },
    {
      "cell_type": "code",
      "metadata": {
        "id": "wgU3Fusho_Q3"
      },
      "source": [
        "def gen_input_data(data, time_step = 5, future_day = 1):\n",
        "\n",
        "    data_date = data[\"Date\"]\n",
        "    # print(data_date)\n",
        "    data = data.drop([\"Date\"], axis = 1)\n",
        "    date_list = []\n",
        "    train_x, train_y = [], []\n",
        "    for i in range(data.shape[0]-time_step):\n",
        "        # print(data_date[i])\n",
        "        date_list.append(data_date[i+time_step])\n",
        "        train_x.append(np.array(data.iloc[i:i+time_step]))\n",
        "        train_y.append(np.array(data.iloc[i+time_step:i+time_step+future_day][\"Close\"]))\n",
        "    return np.array(train_x), np.array(train_y), date_list"
      ],
      "execution_count": null,
      "outputs": []
    },
    {
      "cell_type": "code",
      "metadata": {
        "colab": {
          "base_uri": "https://localhost:8080/"
        },
        "id": "w-SyaEEPo_O0",
        "outputId": "f1e46ed5-56f5-4892-bbd6-f2e343afa3f5"
      },
      "source": [
        "time_step = 5\n",
        "train_x, train_y, date_list = gen_input_data(df_norm,time_step)\n",
        "print(train_x.shape, train_y.shape, len(date_list))"
      ],
      "execution_count": null,
      "outputs": [
        {
          "output_type": "stream",
          "text": [
            "(205, 5, 10) (205, 1) 205\n"
          ],
          "name": "stdout"
        }
      ]
    },
    {
      "cell_type": "code",
      "metadata": {
        "colab": {
          "base_uri": "https://localhost:8080/"
        },
        "id": "2Z9SVXZso_Mp",
        "outputId": "d8f65ef9-99ea-4c83-bd13-de86bb13d82e"
      },
      "source": [
        "target_date = 0\n",
        "for idx, d in enumerate(date_list):\n",
        "    if d > \"2020-09-30\":\n",
        "        print(idx, d)\n",
        "        target_date = idx\n",
        "        break\n",
        "print(target_date)"
      ],
      "execution_count": null,
      "outputs": [
        {
          "output_type": "stream",
          "text": [
            "163 2020-10-01\n",
            "163\n"
          ],
          "name": "stdout"
        }
      ]
    },
    {
      "cell_type": "code",
      "metadata": {
        "id": "2c04uVNBo_Ip"
      },
      "source": [
        "def shuffle(X,Y):\n",
        "    np.random.seed(10)\n",
        "    randomList = np.arange(X.shape[0])\n",
        "    np.random.shuffle(randomList)\n",
        "    return X[randomList], Y[randomList]"
      ],
      "execution_count": null,
      "outputs": []
    },
    {
      "cell_type": "code",
      "metadata": {
        "id": "WB5lSoJFo_Ko",
        "colab": {
          "base_uri": "https://localhost:8080/"
        },
        "outputId": "ea75b31e-dace-4c8b-bd62-49f9a37213fd"
      },
      "source": [
        "valid_x = train_x[target_date:]\n",
        "valid_y = train_y[target_date:]\n",
        "train_x = train_x[:target_date]\n",
        "train_y = train_y[:target_date]\n",
        "train_x, train_y = shuffle(train_x, train_y)\n",
        "\n",
        "print(train_x.shape, train_y.shape)\n",
        "print(valid_x.shape, valid_y.shape)"
      ],
      "execution_count": null,
      "outputs": [
        {
          "output_type": "stream",
          "text": [
            "(163, 5, 10) (163, 1)\n",
            "(42, 5, 10) (42, 1)\n"
          ],
          "name": "stdout"
        }
      ]
    },
    {
      "cell_type": "code",
      "metadata": {
        "id": "Si-Y_pv4o_Go"
      },
      "source": [
        "device = torch.device(\"cuda\") if torch.cuda.is_available() else torch.device(\"cpu\")\n",
        "X_valid = torch.tensor(valid_x,dtype=torch.float32).to(device)\n",
        "X_train = torch.tensor(train_x,dtype=torch.float32).to(device)\n",
        "y_valid = torch.tensor(valid_y,dtype=torch.float32).to(device)\n",
        "y_train = torch.tensor(train_y,dtype=torch.float32).to(device)"
      ],
      "execution_count": null,
      "outputs": []
    },
    {
      "cell_type": "code",
      "metadata": {
        "id": "CUX-JrbNo-_-"
      },
      "source": [
        "class LSTM(nn.Module):\n",
        "    def __init__(self,input_size, hidden_size, n_layers=1, output_size=1):\n",
        "        super().__init__()\n",
        "        self.hidden_size = hidden_size\n",
        "        self.n_layers = n_layers\n",
        "        self.lstm0 = nn.LSTM(input_size, hidden_size, n_layers, batch_first=True)  \n",
        "        self.lstm1 = nn.LSTM(hidden_size, hidden_size, n_layers, batch_first=True)\n",
        "        self.lstm2 = nn.LSTM(hidden_size, hidden_size, n_layers, batch_first=True)\n",
        "        self.fc = nn.Linear(hidden_size, output_size)\n",
        "    \n",
        "    def forward(self, x):\n",
        "        h0 = torch.zeros(self.n_layers, x.size(0), self.hidden_size).to(device).requires_grad_()\n",
        "        c0 = torch.zeros(self.n_layers, x.size(0), self.hidden_size).to(device).requires_grad_()\n",
        "        r_out0, (hidden_state, c) = self.lstm0(x,(h0.detach(),c0.detach()))\n",
        "        h1 = torch.zeros(self.n_layers, x.size(0), self.hidden_size).to(device).requires_grad_()\n",
        "        c1 = torch.zeros(self.n_layers, x.size(0), self.hidden_size).to(device).requires_grad_()\n",
        "        r_out1, (hidden_state1, c1) = self.lstm1(r_out0,(h1.detach(),c1.detach()))\n",
        "        h2 = torch.zeros(self.n_layers, x.size(0), self.hidden_size).to(device).requires_grad_()\n",
        "        c2 = torch.zeros(self.n_layers, x.size(0), self.hidden_size).to(device).requires_grad_()\n",
        "        r_out2, (hidden_state2, c2) = self.lstm2(r_out1,(h2.detach(),c2.detach()))\n",
        "        outs = []\n",
        "        for time in range(r_out1.size(1)):\n",
        "            o = self.fc(r_out2[:, time, :].reshape(-1,self.hidden_size))\n",
        "            outs.append(o[:].reshape(r_out2.shape[0],-1))\n",
        "        return torch.stack(outs, dim=1)"
      ],
      "execution_count": null,
      "outputs": []
    },
    {
      "cell_type": "code",
      "metadata": {
        "id": "yCY7G7YCo-2Z"
      },
      "source": [
        "input_size = 10\n",
        "hidden_size = 128\n",
        "n_layers = 1\n",
        "output_size = 1\n",
        "lstm = LSTM(input_size, hidden_size, n_layers, output_size)"
      ],
      "execution_count": null,
      "outputs": []
    },
    {
      "cell_type": "code",
      "metadata": {
        "id": "FUBa17rmqTDn"
      },
      "source": [
        "epoch = 100\n",
        "loss_f = nn.MSELoss()\n",
        "lr = 0.01\n",
        "optimizer = optim.Adam(lstm.parameters(), lr=lr)\n",
        "lstm.to(device)\n",
        "lstm_train_loss, lstm_valid_loss = [], []\n",
        "\n",
        "for i in range(1,epoch+1):\n",
        "    print(\"epoch: {}/{}\".format(i,epoch), end = '')\n",
        "    optimizer.zero_grad()\n",
        "    lstm_output = lstm(X_train)\n",
        "    lstm_loss = loss_f(lstm_output[:,time_step-1,0].reshape(-1,1),y_train)\n",
        "    lstm_train_loss.append(lstm_loss.item())\n",
        "    print(\", train loss: {: 4f}\".format(lstm_loss.item()), end='')\n",
        "    lstm_loss.backward()\n",
        "    optimizer.step()\n",
        "    \n",
        "    with torch.no_grad():\n",
        "        lstm_output2 = lstm(X_valid)\n",
        "        lstm_v_loss = loss_f(lstm_output2[:,time_step-1,0].reshape(-1,1), y_valid)\n",
        "        print(\", validation loss: {:4f}.\".format(lstm_v_loss.item()))\n",
        "        lstm_valid_loss.append(lstm_v_loss.item())"
      ],
      "execution_count": null,
      "outputs": []
    },
    {
      "cell_type": "code",
      "metadata": {
        "colab": {
          "base_uri": "https://localhost:8080/",
          "height": 559
        },
        "id": "4mieB32pqUJe",
        "outputId": "d700062a-c227-42b5-a8f5-f308f38bcdce"
      },
      "source": [
        "predict = lstm_output2[:,time_step-1,0].detach().cpu().numpy().reshape(-1,1)\n",
        "predict = predict * (close_max - close_min) + close_min\n",
        "real_index = np.array(df.loc[target_date + time_step:, 'Close']).reshape(-1,1)\n",
        "\n",
        "mserr = mse(predict, real_index)\n",
        "\n",
        "plt.plot(predict,color='b',label='predicted')\n",
        "plt.plot(real_index,color='r',label='real')\n",
        "plt.legend()\n",
        "plt.title(f'Stock Index, MSE = {round(mserr,2)}')\n",
        "# plt.savefig('Australia_DNN_LSTM.png')\n",
        "plt.show()\n",
        "fig = plt.figure()\n",
        "plt.plot(lstm_train_loss,color='r',label='train loss')\n",
        "plt.plot(lstm_valid_loss,color='b',label='validation loss')\n",
        "plt.legend()\n",
        "plt.title('Loss')\n",
        "plt.xlabel('epoch')\n",
        "# plt.savefig('Australia_DNN_lstm_loss.png')\n",
        "plt.show()"
      ],
      "execution_count": null,
      "outputs": [
        {
          "output_type": "display_data",
          "data": {
            "image/png": "[encoded data removed]",
            "text/plain": [
              "<Figure size 432x288 with 1 Axes>"
            ]
          },
          "metadata": {
            "tags": [],
            "needs_background": "light"
          }
        },
        {
          "output_type": "display_data",
          "data": {
            "image/png": "[encoded data removed]",
            "text/plain": [
              "<Figure size 432x288 with 1 Axes>"
            ]
          },
          "metadata": {
            "tags": [],
            "needs_background": "light"
          }
        }
      ]
    },
    {
      "cell_type": "markdown",
      "metadata": {
        "id": "kR_wxejO8K3s"
      },
      "source": [
        "## PLOT"
      ]
    },
    {
      "cell_type": "code",
      "metadata": {
        "id": "p6OkS9K_8O7w"
      },
      "source": [
        "import numpy as np\n",
        "import matplotlib.pyplot as plt"
      ],
      "execution_count": null,
      "outputs": []
    },
    {
      "cell_type": "markdown",
      "metadata": {
        "id": "AcdChhy5BMXB"
      },
      "source": [
        "Three_line_plot"
      ]
    },
    {
      "cell_type": "code",
      "metadata": {
        "id": "jXhkDnzE8O5n"
      },
      "source": [
        "real = np.load('Australia.npy')\n",
        "BDLSTM = np.load('Australia_BDLSTM.npy')\n",
        "DNN = np.load('Australia_DNN.npy')"
      ],
      "execution_count": null,
      "outputs": []
    },
    {
      "cell_type": "code",
      "metadata": {
        "colab": {
          "base_uri": "https://localhost:8080/"
        },
        "id": "xQ7bkTGS8O3U",
        "outputId": "6f3e6bf5-d2a8-40e5-ac24-934f20f54708"
      },
      "source": [
        "mse_BDLSTM = mean_squared_error(real, BDLSTM)\n",
        "print(mse_BDLSTM)"
      ],
      "execution_count": null,
      "outputs": [
        {
          "output_type": "stream",
          "text": [
            "4924.236594009022\n"
          ],
          "name": "stdout"
        }
      ]
    },
    {
      "cell_type": "code",
      "metadata": {
        "colab": {
          "base_uri": "https://localhost:8080/"
        },
        "id": "ilXvijTY8O03",
        "outputId": "e722d97f-c128-4125-a998-84c11bf28deb"
      },
      "source": [
        "mse_DNN = mean_squared_error(real, DNN)\n",
        "print(mse_DNN)"
      ],
      "execution_count": null,
      "outputs": [
        {
          "output_type": "stream",
          "text": [
            "37638.91296936321\n"
          ],
          "name": "stdout"
        }
      ]
    },
    {
      "cell_type": "code",
      "metadata": {
        "colab": {
          "base_uri": "https://localhost:8080/",
          "height": 295
        },
        "id": "KYn3O8mb8OeG",
        "outputId": "81a76b66-4f91-4f0f-f302-3a8d94bd119f"
      },
      "source": [
        "plt.plot(real, color = 'red', label = 'Real')  # 紅線表示真實股價\n",
        "plt.plot(BDLSTM, color = 'blue', label = 'BDLSTM')  # 藍線表示預測股價\n",
        "plt.plot(DNN, color = 'green', label = 'DNN-LSTM')  # 藍線表示預測股價\n",
        "plt.title('Australia')\n",
        "plt.xlabel('Time')\n",
        "plt.ylabel('Stock Price')\n",
        "plt.legend()\n",
        "plt.savefig('Australia.png')\n",
        "files.download('Australia.png')\n",
        "plt.show()"
      ],
      "execution_count": null,
      "outputs": [
        {
          "output_type": "display_data",
          "data": {
            "application/javascript": [
              "\n",
              "    async function download(id, filename, size) {\n",
              "      if (!google.colab.kernel.accessAllowed) {\n",
              "        return;\n",
              "      }\n",
              "      const div = document.createElement('div');\n",
              "      const label = document.createElement('label');\n",
              "      label.textContent = `Downloading \"${filename}\": `;\n",
              "      div.appendChild(label);\n",
              "      const progress = document.createElement('progress');\n",
              "      progress.max = size;\n",
              "      div.appendChild(progress);\n",
              "      document.body.appendChild(div);\n",
              "\n",
              "      const buffers = [];\n",
              "      let downloaded = 0;\n",
              "\n",
              "      const channel = await google.colab.kernel.comms.open(id);\n",
              "      // Send a message to notify the kernel that we're ready.\n",
              "      channel.send({})\n",
              "\n",
              "      for await (const message of channel.messages) {\n",
              "        // Send a message to notify the kernel that we're ready.\n",
              "        channel.send({})\n",
              "        if (message.buffers) {\n",
              "          for (const buffer of message.buffers) {\n",
              "            buffers.push(buffer);\n",
              "            downloaded += buffer.byteLength;\n",
              "            progress.value = downloaded;\n",
              "          }\n",
              "        }\n",
              "      }\n",
              "      const blob = new Blob(buffers, {type: 'application/binary'});\n",
              "      const a = document.createElement('a');\n",
              "      a.href = window.URL.createObjectURL(blob);\n",
              "      a.download = filename;\n",
              "      div.appendChild(a);\n",
              "      a.click();\n",
              "      div.remove();\n",
              "    }\n",
              "  "
            ],
            "text/plain": [
              "<IPython.core.display.Javascript object>"
            ]
          },
          "metadata": {
            "tags": []
          }
        },
        {
          "output_type": "display_data",
          "data": {
            "application/javascript": [
              "download(\"download_da803564-908f-4583-841e-c44dccf11f17\", \"Australia.png\", 26752)"
            ],
            "text/plain": [
              "<IPython.core.display.Javascript object>"
            ]
          },
          "metadata": {
            "tags": []
          }
        },
        {
          "output_type": "display_data",
          "data": {
            "image/png": "[encoded data removed]",
            "text/plain": [
              "<Figure size 432x288 with 1 Axes>"
            ]
          },
          "metadata": {
            "tags": [],
            "needs_background": "light"
          }
        }
      ]
    },
    {
      "cell_type": "code",
      "metadata": {
        "id": "HGjKaoDr8Obt"
      },
      "source": [
        "real = np.load('Germany.npy')\n",
        "BDLSTM = np.load('Germany_BDLSTM.npy')\n",
        "DNN = np.load('Germany_DNN.npy')"
      ],
      "execution_count": null,
      "outputs": []
    },
    {
      "cell_type": "code",
      "metadata": {
        "colab": {
          "base_uri": "https://localhost:8080/"
        },
        "id": "3OHKur8D8OZY",
        "outputId": "6f7a31fa-47a0-44f5-b96d-362c0dd6c616"
      },
      "source": [
        "mse_BDLSTM = mean_squared_error(real, BDLSTM)\n",
        "print(mse_BDLSTM)"
      ],
      "execution_count": null,
      "outputs": [
        {
          "output_type": "stream",
          "text": [
            "300909.88227594265\n"
          ],
          "name": "stdout"
        }
      ]
    },
    {
      "cell_type": "code",
      "metadata": {
        "colab": {
          "base_uri": "https://localhost:8080/"
        },
        "id": "jcBCGAK18OXO",
        "outputId": "cdf8fb87-8766-44f5-820d-8895369d2c2f"
      },
      "source": [
        "mse_DNN = mean_squared_error(real, DNN)\n",
        "print(mse_DNN)"
      ],
      "execution_count": null,
      "outputs": [
        {
          "output_type": "stream",
          "text": [
            "596048.4935428086\n"
          ],
          "name": "stdout"
        }
      ]
    },
    {
      "cell_type": "code",
      "metadata": {
        "id": "E0Xxv4038NVb"
      },
      "source": [
        "plt.plot(real, color = 'red', label = 'Real')  # 紅線表示真實股價\n",
        "plt.plot(BDLSTM, color = 'blue', label = 'BDLSTM')  # 藍線表示預測股價\n",
        "plt.plot(DNN, color = 'green', label = 'DNN-LSTM')  # 藍線表示預測股價\n",
        "plt.title('Germany')\n",
        "plt.xlabel('Time')\n",
        "plt.ylabel('Stock Price')\n",
        "plt.legend()\n",
        "plt.savefig('Germany.png')\n",
        "files.download('Germany.png')\n",
        "plt.show()"
      ],
      "execution_count": null,
      "outputs": []
    },
    {
      "cell_type": "markdown",
      "metadata": {
        "id": "kWCcZDfWBQ5U"
      },
      "source": [
        "Month10-11_plot"
      ]
    },
    {
      "cell_type": "code",
      "metadata": {
        "id": "C4oFVyWQB9ks"
      },
      "source": [
        "import pandas as pd\n",
        "import numpy as np\n",
        "import matplotlib.pyplot as plt\n",
        "import time"
      ],
      "execution_count": null,
      "outputs": []
    },
    {
      "cell_type": "code",
      "metadata": {
        "id": "CChbIk0l-7fJ"
      },
      "source": [
        "covid_pd = pd.read_csv('Australia_covid.csv')"
      ],
      "execution_count": null,
      "outputs": []
    },
    {
      "cell_type": "code",
      "metadata": {
        "id": "08HyiqJPBYcF"
      },
      "source": [
        "def covid_preprocess(covid_pd):\n",
        "\n",
        "    covid_pd = covid_pd.rename(columns = {'date': 'Date'}, inplace = False)\n",
        "\n",
        "    features = list(covid_pd.columns)\n",
        "    print(features)\n",
        "    features = features[:2]\n",
        "    covid_pd = covid_pd[features]\n",
        "\n",
        "    covid_pd = covid_pd.dropna()\n",
        "\n",
        "    for i in range(len(covid_pd['Date'])):\n",
        "        temp = covid_pd.loc[i,'Date']\n",
        "        if '/' in temp:\n",
        "            # print(covid_pd.loc[i,'Date'])\n",
        "            \n",
        "            temp = time.strptime(temp, \"%Y/%m/%d\")\n",
        "            nt = time.strftime(\"%Y-%m-%d\", temp)\n",
        "            # print(nt)\n",
        "            covid_pd.loc[i,'Date'] = nt\n",
        "\n",
        "    return covid_pd"
      ],
      "execution_count": null,
      "outputs": []
    },
    {
      "cell_type": "code",
      "metadata": {
        "colab": {
          "base_uri": "https://localhost:8080/"
        },
        "id": "T7dyuC0rBY_U",
        "outputId": "a8918bf8-4f03-4b69-e209-233796589734"
      },
      "source": [
        "covid_pd = covid_preprocess(covid_pd)\n",
        "covid_pd = covid_pd[(covid_pd['Date'] >= \"2020-10-01\") & (covid_pd['Date'] <= \"2020-11-30\")]\n",
        "covid_pd = covid_pd.reset_index(drop=True)\n",
        "covid_case = covid_pd['confirmed_cases']"
      ],
      "execution_count": null,
      "outputs": [
        {
          "output_type": "stream",
          "text": [
            "['Date', 'confirmed_cases']\n"
          ],
          "name": "stdout"
        }
      ]
    },
    {
      "cell_type": "code",
      "metadata": {
        "colab": {
          "base_uri": "https://localhost:8080/",
          "height": 312
        },
        "id": "dEGza1DrBY9I",
        "outputId": "f1160de1-0a9b-4ad3-fb47-b16f6483afc6"
      },
      "source": [
        "plt.plot(covid_case, color = 'red')  \n",
        "\n",
        "plt.title('Australia_covid')\n",
        "plt.xlabel('Time')\n",
        "plt.ylabel('COVID_Cases')\n",
        "plt.legend()\n",
        "plt.show()"
      ],
      "execution_count": null,
      "outputs": [
        {
          "output_type": "stream",
          "text": [
            "No handles with labels found to put in legend.\n"
          ],
          "name": "stderr"
        },
        {
          "output_type": "display_data",
          "data": {
            "image/png": "[encoded data removed]",
            "text/plain": [
              "<Figure size 432x288 with 1 Axes>"
            ]
          },
          "metadata": {
            "tags": [],
            "needs_background": "light"
          }
        }
      ]
    },
    {
      "cell_type": "markdown",
      "metadata": {
        "id": "Iq2KgLyTGGJ2"
      },
      "source": [
        "## Data produce"
      ]
    },
    {
      "cell_type": "code",
      "metadata": {
        "colab": {
          "base_uri": "https://localhost:8080/",
          "height": 17
        },
        "id": "p_4t3FICGG8h",
        "outputId": "2478a12f-d18d-4108-a611-bb945e5a352a"
      },
      "source": [
        "import numpy as np\n",
        "import pandas as pd\n",
        "import talib\n",
        "import time\n",
        "import argparse\n",
        "\n",
        "# parser = argparse.ArgumentParser()\n",
        "# parser.add_argument('--country', type=str, default='UK', help='Data of country')\n",
        "# opts = parser.parse_args()\n",
        "\n",
        "# stock_path = opts.country + '_stock.csv'\n",
        "# covid_path = opts.country + '_covid.csv'\n",
        "stock_path = 'Germany_stock.csv'\n",
        "covid_path = 'Germany_covid.csv'\n",
        "stock = pd.read_csv(stock_path)\n",
        "covid = pd.read_csv(covid_path)\n",
        "stock.drop('Adj Close', axis=1, inplace=True)\n",
        "ma10 = talib.SMA(np.array(stock['Close']),10)\n",
        "ma30 = talib.SMA(np.array(stock['Close']),30)\n",
        "stock['ma10'], stock['ma30'] = ma10, ma30\n",
        "stock['K'], stock['D'] = talib.STOCH(stock['High'],stock['Low'],stock['Close'])\n",
        "stock.fillna(value=0,inplace=True)\n",
        "\n",
        "def covid_preprocess(covid_pd):\n",
        "\n",
        "    covid_pd = covid_pd.rename(columns = {'date': 'Date'}, inplace = False)\n",
        "\n",
        "    features = list(covid_pd.columns)\n",
        "    # print('features',features)\n",
        "\n",
        "    features = features[:2]\n",
        "    covid_pd = covid_pd[features]\n",
        "\n",
        "    covid_pd = covid_pd.dropna()\n",
        "\n",
        "    for i in range(len(covid_pd['Date'])):\n",
        "        # print(covid_pd.loc[i,'Date'])\n",
        "        temp = covid_pd.loc[i,'Date']\n",
        "        temp = time.strptime(temp, \"%Y/%m/%d\")\n",
        "        nt = time.strftime(\"%Y-%m-%d\", temp)\n",
        "        # print(nt)\n",
        "        covid_pd.loc[i,'Date'] = nt\n",
        "\n",
        "    return covid_pd\n",
        "\n",
        "covid = covid_preprocess(covid)\n",
        "\n",
        "def stock_preprocess(stock_pd):\n",
        "\n",
        "    stock_pd['Date'] = pd.to_datetime(stock_pd['Date'])\n",
        "    \n",
        "    for i in range(len(stock_pd['Date'])):\n",
        "        temp = stock_pd.loc[i,'Date']\n",
        "        temp = str(temp).split(' ')[0]\n",
        "        stock_pd.loc[i,'Date'] = temp\n",
        "\n",
        "    #     '''\n",
        "    #     str_i = \"20081231\"\n",
        "    #     list_i = list(i)\n",
        "    #     print(list_i)\n",
        "\n",
        "    #     list_i.insert(4, '/')\n",
        "    #     list_i.insert(7, '/')\n",
        "    #     print(list_i)\n",
        "\n",
        "    #     str_i = ''.join(i)\n",
        "    #     '''\n",
        "    #stock_pd.drop(columns=[\"Adj Close\"],inplace=True)\n",
        "\n",
        "    return stock_pd\n",
        "\n",
        "stock = stock_preprocess(stock)\n",
        "\n",
        "stock = stock[(stock['Date'] >= \"2020-02-01\") & (stock['Date'] <= \"2020-11-30\")]\n",
        "covid = covid[(covid['Date'] >= \"2020-02-01\") & (covid['Date'] <= \"2020-11-30\")]\n",
        "\n",
        "stock = stock.reset_index(drop=True)\n",
        "covid = covid.reset_index(drop=True)\n",
        "\n",
        "def merge_pd(stock_pd, covid_pd):\n",
        "\n",
        "    case = 0\n",
        "    case_list = []\n",
        "    for idx_c, date_c in enumerate(list(covid_pd['Date'])):\n",
        "        case = case + int(covid_pd.loc[idx_c, \"confirmed_cases\"])\n",
        "        if date_c in list(stock_pd['Date']):\n",
        "            # print(idx_c, date_c)\n",
        "            case_list.append(case)\n",
        "            case = 0\n",
        "        else:\n",
        "            # case = case + covid_pd.loc[idx_c, \"confirmed_cases\"]\n",
        "            pass\n",
        "    stock_pd[\"covid\"]=case_list\n",
        "    return stock_pd\n",
        "\n",
        "\n",
        "df = merge_pd(stock, covid)\n",
        "file_name = 'Germany_data.csv'\n",
        "df.to_csv(file_name,index=False)\n",
        "files.download('Germany_data.csv')"
      ],
      "execution_count": null,
      "outputs": [
        {
          "output_type": "display_data",
          "data": {
            "application/javascript": [
              "\n",
              "    async function download(id, filename, size) {\n",
              "      if (!google.colab.kernel.accessAllowed) {\n",
              "        return;\n",
              "      }\n",
              "      const div = document.createElement('div');\n",
              "      const label = document.createElement('label');\n",
              "      label.textContent = `Downloading \"${filename}\": `;\n",
              "      div.appendChild(label);\n",
              "      const progress = document.createElement('progress');\n",
              "      progress.max = size;\n",
              "      div.appendChild(progress);\n",
              "      document.body.appendChild(div);\n",
              "\n",
              "      const buffers = [];\n",
              "      let downloaded = 0;\n",
              "\n",
              "      const channel = await google.colab.kernel.comms.open(id);\n",
              "      // Send a message to notify the kernel that we're ready.\n",
              "      channel.send({})\n",
              "\n",
              "      for await (const message of channel.messages) {\n",
              "        // Send a message to notify the kernel that we're ready.\n",
              "        channel.send({})\n",
              "        if (message.buffers) {\n",
              "          for (const buffer of message.buffers) {\n",
              "            buffers.push(buffer);\n",
              "            downloaded += buffer.byteLength;\n",
              "            progress.value = downloaded;\n",
              "          }\n",
              "        }\n",
              "      }\n",
              "      const blob = new Blob(buffers, {type: 'application/binary'});\n",
              "      const a = document.createElement('a');\n",
              "      a.href = window.URL.createObjectURL(blob);\n",
              "      a.download = filename;\n",
              "      div.appendChild(a);\n",
              "      a.click();\n",
              "      div.remove();\n",
              "    }\n",
              "  "
            ],
            "text/plain": [
              "<IPython.core.display.Javascript object>"
            ]
          },
          "metadata": {
            "tags": []
          }
        },
        {
          "output_type": "display_data",
          "data": {
            "application/javascript": [
              "download(\"download_52bbf320-c847-4fc6-a31a-0825f8a87861\", \"Germany_data.csv\", 31684)"
            ],
            "text/plain": [
              "<IPython.core.display.Javascript object>"
            ]
          },
          "metadata": {
            "tags": []
          }
        }
      ]
    }
  ]
}